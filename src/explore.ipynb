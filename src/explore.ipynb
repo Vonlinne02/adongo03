{
 "cells": [
  {
   "cell_type": "code",
   "execution_count": null,
   "metadata": {},
   "outputs": [],
   "source": [
    "import rdkit #type: ignore\n",
    "import pandas as pd  # type: ignore\n",
    " \n",
    "\n",
    "\n",
    "\n",
    "df  = pd.read_csv('bioactivity_processed.csv')\n",
    "df.head(3)"
   ]
  },
  {
   "cell_type": "code",
   "execution_count": 5,
   "metadata": {},
   "outputs": [],
   "source": [
    "import numpy as np # type: ignore\n",
    "from rdkit import Chem\n",
    "from rdkit.Chem import Descriptors, Lipinski\n",
    "import pandas as pd\n",
    "\n",
    "# lambda function simplifies code by creating two lists representing the variables\n",
    "lipinski = lambda smiles: pd.DataFrame(  #dataframe iimplicitly returned.\n",
    "    [\n",
    "        [   \n",
    "            Descriptors.MolWt(mol),\n",
    "            Descriptors.MolLogP(mol),\n",
    "            Lipinski.NumHDonors(mol),\n",
    "            Lipinski.NumHAcceptors(mol)\n",
    "        \n",
    "\n",
    "        ]\n",
    "\n",
    "    for mol in [Chem.MolFromSmiles(elem) for elem in smiles]\n",
    "    ],\n",
    "#dataframe has been constructed within lambda function through comprehension to generate columns and data\n",
    "    columns=['MW', 'logP', 'NumofDonors', 'NumofAcceptors']\n",
    "\n",
    "\n",
    ")\n",
    "#finally the lambda function return the dataframe containing calculaed descriptors\n",
    "\n",
    "df_lipinski = lipinski(df.canonical_smiles) # on calling this function it directly creates the dataframe containing the descriptors for each molecule\n",
    "\n",
    "\n"
   ]
  },
  {
   "cell_type": "code",
   "execution_count": null,
   "metadata": {},
   "outputs": [],
   "source": [
    "df_lipinski"
   ]
  },
  {
   "cell_type": "code",
   "execution_count": 10,
   "metadata": {},
   "outputs": [],
   "source": [
    "df_combined = pd.concat([df,df_lipinski], axis=1) #combining df and df_lipinski"
   ]
  },
  {
   "cell_type": "code",
   "execution_count": null,
   "metadata": {},
   "outputs": [],
   "source": [
    "df_combined"
   ]
  },
  {
   "cell_type": "code",
   "execution_count": null,
   "metadata": {},
   "outputs": [],
   "source": [
    "df_combined.standard_value.describe()"
   ]
  }
 ],
 "metadata": {
  "kernelspec": {
   "display_name": "explored",
   "language": "python",
   "name": "python3"
  },
  "language_info": {
   "codemirror_mode": {
    "name": "ipython",
    "version": 3
   },
   "file_extension": ".py",
   "mimetype": "text/x-python",
   "name": "python",
   "nbconvert_exporter": "python",
   "pygments_lexer": "ipython3",
   "version": "3.12.3"
  }
 },
 "nbformat": 4,
 "nbformat_minor": 2
}
