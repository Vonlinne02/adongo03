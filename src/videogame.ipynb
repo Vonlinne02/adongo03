{
 "cells": [
  {
   "cell_type": "code",
   "execution_count": 1,
   "metadata": {},
   "outputs": [],
   "source": [
    "import pandas as pd\n",
    "\n",
    "\n",
    "sales=pd.read_csv('vgsales.csv') #reading our csv\n",
    "\n"
   ]
  },
  {
   "cell_type": "code",
   "execution_count": 2,
   "metadata": {},
   "outputs": [
    {
     "ename": "",
     "evalue": "",
     "output_type": "error",
     "traceback": [
      "\u001b[1;31mThe Kernel crashed while executing code in the current cell or a previous cell. \n",
      "\u001b[1;31mPlease review the code in the cell(s) to identify a possible cause of the failure. \n",
      "\u001b[1;31mClick <a href='https://aka.ms/vscodeJupyterKernelCrash'>here</a> for more info. \n",
      "\u001b[1;31mView Jupyter <a href='command:jupyter.viewOutput'>log</a> for further details."
     ]
    }
   ],
   "source": [
    "import pandas as pd\n",
    "\n",
    "from sklearn.tree import DecisionTreeRegressor # designing model from algorithm\n",
    "from sklearn.model_selection import train_test_split # training of spilted dataset\n",
    "from sklearn.metrics import mean_squared_error #importing accuracy score for testing output of the model\n",
    "\n",
    "from sklearn.impute import SimpleImputer # handling missing values which regressor cannot handle\n",
    "\n",
    "# selecting training and testing dataset\n",
    "encoded_sales = pd.get_dummies(sales,columns=['Platform', 'Genre', 'Publisher','Name'])\n",
    "\n",
    "# Select relevant features\n",
    "x = encoded_sales.drop(columns=['Global_Sales'])\n",
    "\n",
    "y = sales['Global_Sales']\n",
    "\n",
    "\n",
    "\n",
    "#splitting the dataset\n",
    "x_train,x_test,y_train,y_test =train_test_split(x,y, test_size=0.2, random_state=42) # test size_accuracy varies depending on volume ofthe dtaset\n",
    "#choosing model/\n",
    "imputer = SimpleImputer(strategy='mean')\n",
    "x_train_imputed =imputer.fit_transform(x_train)\n",
    "x_test_imputed = imputer.transform(x_test)\n",
    "\n",
    "model = DecisionTreeRegressor(random_state=42)\n",
    "#inserting the split datasets for analysis in the model for training\n",
    "model.fit(x_train_imputed, y_train)\n",
    "\n",
    "#dropping the rows with missing values from both training and testing dataset \n",
    "\n",
    "xdropped = x_train.dropna()\n",
    "ydropped = y_train[x_train.index]\n",
    "x_testdropped = x_test.dropna()\n",
    "\n",
    "\n",
    "model.fit(xdropped,ydropped)\n",
    "\n",
    "#we make predictions on feature test frm feeds from the input trained dataset\n",
    "predictions = model.predict(x_test)\n",
    "\n",
    "#analysing the score accuracy from the output\n",
    "model_mse = mean_squared_error(y_test, predictions)\n",
    "\n",
    "\n",
    "print(model_mse)\n",
    "\n",
    "\n",
    "\n"
   ]
  },
  {
   "cell_type": "code",
   "execution_count": null,
   "metadata": {},
   "outputs": [],
   "source": [
    "from sklearn.ensemble import RandomForestRegressor\n",
    "from sklearn.model_selection import train_test_split\n",
    "\n",
    "rf_model = RandomForestRegressor(n_estimators=100, random_state=42) # train the random forest model\n",
    "\n",
    "rf_model.fit(x_train,y_train)\n",
    "\n",
    "rf_predictions = rf_model.predict(x_test)\n",
    "\n",
    "rf_mse = mean_squared_error(y_test, rf_predictions)  #evaluation of the model\n",
    "\n",
    "print(rf_mse)"
   ]
  },
  {
   "cell_type": "code",
   "execution_count": null,
   "metadata": {},
   "outputs": [],
   "source": []
  }
 ],
 "metadata": {
  "kernelspec": {
   "display_name": "base",
   "language": "python",
   "name": "python3"
  },
  "language_info": {
   "codemirror_mode": {
    "name": "ipython",
    "version": 3
   },
   "file_extension": ".py",
   "mimetype": "text/x-python",
   "name": "python",
   "nbconvert_exporter": "python",
   "pygments_lexer": "ipython3",
   "version": "3.11.7"
  }
 },
 "nbformat": 4,
 "nbformat_minor": 2
}
